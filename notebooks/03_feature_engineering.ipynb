{
 "cells": [
  {
   "cell_type": "markdown",
   "metadata": {},
   "source": [
    "# **3. Feature Engineering**"
   ]
  },
  {
   "cell_type": "code",
   "execution_count": 35,
   "metadata": {},
   "outputs": [
    {
     "name": "stdout",
     "output_type": "stream",
     "text": [
      "     ID  Year_Birth   Education Marital_Status   Income  Kidhome  Teenhome  \\\n",
      "0  5524        1957  Graduation         Single  58138.0        0         0   \n",
      "1  2174        1954  Graduation         Single  46344.0        1         1   \n",
      "2  4141        1965  Graduation       Together  71613.0        0         0   \n",
      "3  6182        1984  Graduation       Together  26646.0        1         0   \n",
      "\n",
      "  Dt_Customer  Recency  MntWines  ...  NumCatalogPurchases  NumStorePurchases  \\\n",
      "0  2012-09-04       58       635  ...                   10                  4   \n",
      "1  2014-03-08       38        11  ...                    1                  2   \n",
      "2  2013-08-21       26       426  ...                    2                 10   \n",
      "3  2014-02-10       26        11  ...                    0                  4   \n",
      "\n",
      "   NumWebVisitsMonth  AcceptedCmp3  AcceptedCmp4  AcceptedCmp5  AcceptedCmp1  \\\n",
      "0                  7             0             0             0             0   \n",
      "1                  5             0             0             0             0   \n",
      "2                  4             0             0             0             0   \n",
      "3                  6             0             0             0             0   \n",
      "\n",
      "   AcceptedCmp2  Complain  Response  \n",
      "0             0         0         1  \n",
      "1             0         0         0  \n",
      "2             0         0         0  \n",
      "3             0         0         0  \n",
      "\n",
      "[4 rows x 27 columns]\n"
     ]
    }
   ],
   "source": [
    "import pandas as pd\n",
    "\n",
    "# Cargar el archivo CSV e indicar que la columna 'Dt_Customer' debe ser interpretada como fecha\n",
    "df = pd.read_csv('../data/interim/02campana_marketing.csv', parse_dates=['Dt_Customer'])\n",
    "\n",
    "# Mostrar las primeras 4 filas\n",
    "print(df.head(4))"
   ]
  },
  {
   "cell_type": "code",
   "execution_count": 36,
   "metadata": {},
   "outputs": [
    {
     "name": "stdout",
     "output_type": "stream",
     "text": [
      "\n",
      "**Información del DataFrame:**\n",
      "<class 'pandas.core.frame.DataFrame'>\n",
      "RangeIndex: 2212 entries, 0 to 2211\n",
      "Data columns (total 27 columns):\n",
      " #   Column               Non-Null Count  Dtype         \n",
      "---  ------               --------------  -----         \n",
      " 0   ID                   2212 non-null   int64         \n",
      " 1   Year_Birth           2212 non-null   int64         \n",
      " 2   Education            2212 non-null   object        \n",
      " 3   Marital_Status       2212 non-null   object        \n",
      " 4   Income               2212 non-null   float64       \n",
      " 5   Kidhome              2212 non-null   int64         \n",
      " 6   Teenhome             2212 non-null   int64         \n",
      " 7   Dt_Customer          2212 non-null   datetime64[ns]\n",
      " 8   Recency              2212 non-null   int64         \n",
      " 9   MntWines             2212 non-null   int64         \n",
      " 10  MntFruits            2212 non-null   int64         \n",
      " 11  MntMeatProducts      2212 non-null   int64         \n",
      " 12  MntFishProducts      2212 non-null   int64         \n",
      " 13  MntSweetProducts     2212 non-null   int64         \n",
      " 14  MntGoldProds         2212 non-null   int64         \n",
      " 15  NumDealsPurchases    2212 non-null   int64         \n",
      " 16  NumWebPurchases      2212 non-null   int64         \n",
      " 17  NumCatalogPurchases  2212 non-null   int64         \n",
      " 18  NumStorePurchases    2212 non-null   int64         \n",
      " 19  NumWebVisitsMonth    2212 non-null   int64         \n",
      " 20  AcceptedCmp3         2212 non-null   int64         \n",
      " 21  AcceptedCmp4         2212 non-null   int64         \n",
      " 22  AcceptedCmp5         2212 non-null   int64         \n",
      " 23  AcceptedCmp1         2212 non-null   int64         \n",
      " 24  AcceptedCmp2         2212 non-null   int64         \n",
      " 25  Complain             2212 non-null   int64         \n",
      " 26  Response             2212 non-null   int64         \n",
      "dtypes: datetime64[ns](1), float64(1), int64(23), object(2)\n",
      "memory usage: 466.7+ KB\n",
      "\n",
      "**Estadísticas descriptivas:**\n"
     ]
    },
    {
     "data": {
      "text/html": [
       "<div>\n",
       "<style scoped>\n",
       "    .dataframe tbody tr th:only-of-type {\n",
       "        vertical-align: middle;\n",
       "    }\n",
       "\n",
       "    .dataframe tbody tr th {\n",
       "        vertical-align: top;\n",
       "    }\n",
       "\n",
       "    .dataframe thead th {\n",
       "        text-align: right;\n",
       "    }\n",
       "</style>\n",
       "<table border=\"1\" class=\"dataframe\">\n",
       "  <thead>\n",
       "    <tr style=\"text-align: right;\">\n",
       "      <th></th>\n",
       "      <th>ID</th>\n",
       "      <th>Year_Birth</th>\n",
       "      <th>Income</th>\n",
       "      <th>Kidhome</th>\n",
       "      <th>Teenhome</th>\n",
       "      <th>Dt_Customer</th>\n",
       "      <th>Recency</th>\n",
       "      <th>MntWines</th>\n",
       "      <th>MntFruits</th>\n",
       "      <th>MntMeatProducts</th>\n",
       "      <th>...</th>\n",
       "      <th>NumCatalogPurchases</th>\n",
       "      <th>NumStorePurchases</th>\n",
       "      <th>NumWebVisitsMonth</th>\n",
       "      <th>AcceptedCmp3</th>\n",
       "      <th>AcceptedCmp4</th>\n",
       "      <th>AcceptedCmp5</th>\n",
       "      <th>AcceptedCmp1</th>\n",
       "      <th>AcceptedCmp2</th>\n",
       "      <th>Complain</th>\n",
       "      <th>Response</th>\n",
       "    </tr>\n",
       "  </thead>\n",
       "  <tbody>\n",
       "    <tr>\n",
       "      <th>count</th>\n",
       "      <td>2212.000000</td>\n",
       "      <td>2212.000000</td>\n",
       "      <td>2212.000000</td>\n",
       "      <td>2212.000000</td>\n",
       "      <td>2212.000000</td>\n",
       "      <td>2212</td>\n",
       "      <td>2212.000000</td>\n",
       "      <td>2212.000000</td>\n",
       "      <td>2212.000000</td>\n",
       "      <td>2212.000000</td>\n",
       "      <td>...</td>\n",
       "      <td>2212.000000</td>\n",
       "      <td>2212.000000</td>\n",
       "      <td>2212.000000</td>\n",
       "      <td>2212.000000</td>\n",
       "      <td>2212.000000</td>\n",
       "      <td>2212.000000</td>\n",
       "      <td>2212.000000</td>\n",
       "      <td>2212.000000</td>\n",
       "      <td>2212.000000</td>\n",
       "      <td>2212.000000</td>\n",
       "    </tr>\n",
       "    <tr>\n",
       "      <th>mean</th>\n",
       "      <td>5587.731917</td>\n",
       "      <td>1968.932640</td>\n",
       "      <td>51954.460095</td>\n",
       "      <td>0.442586</td>\n",
       "      <td>0.505425</td>\n",
       "      <td>2013-07-10 17:28:06.075949312</td>\n",
       "      <td>49.050633</td>\n",
       "      <td>305.030741</td>\n",
       "      <td>26.324593</td>\n",
       "      <td>166.970163</td>\n",
       "      <td>...</td>\n",
       "      <td>2.668174</td>\n",
       "      <td>5.800181</td>\n",
       "      <td>5.320072</td>\n",
       "      <td>0.073689</td>\n",
       "      <td>0.074141</td>\n",
       "      <td>0.072785</td>\n",
       "      <td>0.063743</td>\n",
       "      <td>0.013562</td>\n",
       "      <td>0.009494</td>\n",
       "      <td>0.149638</td>\n",
       "    </tr>\n",
       "    <tr>\n",
       "      <th>min</th>\n",
       "      <td>0.000000</td>\n",
       "      <td>1940.000000</td>\n",
       "      <td>1730.000000</td>\n",
       "      <td>0.000000</td>\n",
       "      <td>0.000000</td>\n",
       "      <td>2012-07-30 00:00:00</td>\n",
       "      <td>0.000000</td>\n",
       "      <td>0.000000</td>\n",
       "      <td>0.000000</td>\n",
       "      <td>0.000000</td>\n",
       "      <td>...</td>\n",
       "      <td>0.000000</td>\n",
       "      <td>0.000000</td>\n",
       "      <td>0.000000</td>\n",
       "      <td>0.000000</td>\n",
       "      <td>0.000000</td>\n",
       "      <td>0.000000</td>\n",
       "      <td>0.000000</td>\n",
       "      <td>0.000000</td>\n",
       "      <td>0.000000</td>\n",
       "      <td>0.000000</td>\n",
       "    </tr>\n",
       "    <tr>\n",
       "      <th>25%</th>\n",
       "      <td>2814.750000</td>\n",
       "      <td>1959.000000</td>\n",
       "      <td>35233.500000</td>\n",
       "      <td>0.000000</td>\n",
       "      <td>0.000000</td>\n",
       "      <td>2013-01-16 00:00:00</td>\n",
       "      <td>24.000000</td>\n",
       "      <td>23.750000</td>\n",
       "      <td>1.750000</td>\n",
       "      <td>16.000000</td>\n",
       "      <td>...</td>\n",
       "      <td>0.000000</td>\n",
       "      <td>3.000000</td>\n",
       "      <td>3.000000</td>\n",
       "      <td>0.000000</td>\n",
       "      <td>0.000000</td>\n",
       "      <td>0.000000</td>\n",
       "      <td>0.000000</td>\n",
       "      <td>0.000000</td>\n",
       "      <td>0.000000</td>\n",
       "      <td>0.000000</td>\n",
       "    </tr>\n",
       "    <tr>\n",
       "      <th>50%</th>\n",
       "      <td>5458.500000</td>\n",
       "      <td>1970.000000</td>\n",
       "      <td>51381.500000</td>\n",
       "      <td>0.000000</td>\n",
       "      <td>0.000000</td>\n",
       "      <td>2013-07-09 00:00:00</td>\n",
       "      <td>49.000000</td>\n",
       "      <td>173.500000</td>\n",
       "      <td>8.000000</td>\n",
       "      <td>68.000000</td>\n",
       "      <td>...</td>\n",
       "      <td>2.000000</td>\n",
       "      <td>5.000000</td>\n",
       "      <td>6.000000</td>\n",
       "      <td>0.000000</td>\n",
       "      <td>0.000000</td>\n",
       "      <td>0.000000</td>\n",
       "      <td>0.000000</td>\n",
       "      <td>0.000000</td>\n",
       "      <td>0.000000</td>\n",
       "      <td>0.000000</td>\n",
       "    </tr>\n",
       "    <tr>\n",
       "      <th>75%</th>\n",
       "      <td>8421.750000</td>\n",
       "      <td>1977.000000</td>\n",
       "      <td>68487.000000</td>\n",
       "      <td>1.000000</td>\n",
       "      <td>1.000000</td>\n",
       "      <td>2013-12-31 00:00:00</td>\n",
       "      <td>74.000000</td>\n",
       "      <td>505.500000</td>\n",
       "      <td>33.000000</td>\n",
       "      <td>232.250000</td>\n",
       "      <td>...</td>\n",
       "      <td>4.000000</td>\n",
       "      <td>8.000000</td>\n",
       "      <td>7.000000</td>\n",
       "      <td>0.000000</td>\n",
       "      <td>0.000000</td>\n",
       "      <td>0.000000</td>\n",
       "      <td>0.000000</td>\n",
       "      <td>0.000000</td>\n",
       "      <td>0.000000</td>\n",
       "      <td>0.000000</td>\n",
       "    </tr>\n",
       "    <tr>\n",
       "      <th>max</th>\n",
       "      <td>11191.000000</td>\n",
       "      <td>1999.000000</td>\n",
       "      <td>162397.000000</td>\n",
       "      <td>2.000000</td>\n",
       "      <td>2.000000</td>\n",
       "      <td>2014-06-29 00:00:00</td>\n",
       "      <td>99.000000</td>\n",
       "      <td>1493.000000</td>\n",
       "      <td>199.000000</td>\n",
       "      <td>1725.000000</td>\n",
       "      <td>...</td>\n",
       "      <td>28.000000</td>\n",
       "      <td>13.000000</td>\n",
       "      <td>20.000000</td>\n",
       "      <td>1.000000</td>\n",
       "      <td>1.000000</td>\n",
       "      <td>1.000000</td>\n",
       "      <td>1.000000</td>\n",
       "      <td>1.000000</td>\n",
       "      <td>1.000000</td>\n",
       "      <td>1.000000</td>\n",
       "    </tr>\n",
       "    <tr>\n",
       "      <th>std</th>\n",
       "      <td>3247.944128</td>\n",
       "      <td>11.716942</td>\n",
       "      <td>21530.922239</td>\n",
       "      <td>0.537052</td>\n",
       "      <td>0.544258</td>\n",
       "      <td>NaN</td>\n",
       "      <td>28.940794</td>\n",
       "      <td>337.611255</td>\n",
       "      <td>39.781794</td>\n",
       "      <td>224.344950</td>\n",
       "      <td>...</td>\n",
       "      <td>2.924378</td>\n",
       "      <td>3.253616</td>\n",
       "      <td>2.423445</td>\n",
       "      <td>0.261323</td>\n",
       "      <td>0.262060</td>\n",
       "      <td>0.259842</td>\n",
       "      <td>0.244350</td>\n",
       "      <td>0.115691</td>\n",
       "      <td>0.096994</td>\n",
       "      <td>0.356797</td>\n",
       "    </tr>\n",
       "  </tbody>\n",
       "</table>\n",
       "<p>8 rows × 25 columns</p>\n",
       "</div>"
      ],
      "text/plain": [
       "                 ID   Year_Birth         Income      Kidhome     Teenhome  \\\n",
       "count   2212.000000  2212.000000    2212.000000  2212.000000  2212.000000   \n",
       "mean    5587.731917  1968.932640   51954.460095     0.442586     0.505425   \n",
       "min        0.000000  1940.000000    1730.000000     0.000000     0.000000   \n",
       "25%     2814.750000  1959.000000   35233.500000     0.000000     0.000000   \n",
       "50%     5458.500000  1970.000000   51381.500000     0.000000     0.000000   \n",
       "75%     8421.750000  1977.000000   68487.000000     1.000000     1.000000   \n",
       "max    11191.000000  1999.000000  162397.000000     2.000000     2.000000   \n",
       "std     3247.944128    11.716942   21530.922239     0.537052     0.544258   \n",
       "\n",
       "                         Dt_Customer      Recency     MntWines    MntFruits  \\\n",
       "count                           2212  2212.000000  2212.000000  2212.000000   \n",
       "mean   2013-07-10 17:28:06.075949312    49.050633   305.030741    26.324593   \n",
       "min              2012-07-30 00:00:00     0.000000     0.000000     0.000000   \n",
       "25%              2013-01-16 00:00:00    24.000000    23.750000     1.750000   \n",
       "50%              2013-07-09 00:00:00    49.000000   173.500000     8.000000   \n",
       "75%              2013-12-31 00:00:00    74.000000   505.500000    33.000000   \n",
       "max              2014-06-29 00:00:00    99.000000  1493.000000   199.000000   \n",
       "std                              NaN    28.940794   337.611255    39.781794   \n",
       "\n",
       "       MntMeatProducts  ...  NumCatalogPurchases  NumStorePurchases  \\\n",
       "count      2212.000000  ...          2212.000000        2212.000000   \n",
       "mean        166.970163  ...             2.668174           5.800181   \n",
       "min           0.000000  ...             0.000000           0.000000   \n",
       "25%          16.000000  ...             0.000000           3.000000   \n",
       "50%          68.000000  ...             2.000000           5.000000   \n",
       "75%         232.250000  ...             4.000000           8.000000   \n",
       "max        1725.000000  ...            28.000000          13.000000   \n",
       "std         224.344950  ...             2.924378           3.253616   \n",
       "\n",
       "       NumWebVisitsMonth  AcceptedCmp3  AcceptedCmp4  AcceptedCmp5  \\\n",
       "count        2212.000000   2212.000000   2212.000000   2212.000000   \n",
       "mean            5.320072      0.073689      0.074141      0.072785   \n",
       "min             0.000000      0.000000      0.000000      0.000000   \n",
       "25%             3.000000      0.000000      0.000000      0.000000   \n",
       "50%             6.000000      0.000000      0.000000      0.000000   \n",
       "75%             7.000000      0.000000      0.000000      0.000000   \n",
       "max            20.000000      1.000000      1.000000      1.000000   \n",
       "std             2.423445      0.261323      0.262060      0.259842   \n",
       "\n",
       "       AcceptedCmp1  AcceptedCmp2     Complain     Response  \n",
       "count   2212.000000   2212.000000  2212.000000  2212.000000  \n",
       "mean       0.063743      0.013562     0.009494     0.149638  \n",
       "min        0.000000      0.000000     0.000000     0.000000  \n",
       "25%        0.000000      0.000000     0.000000     0.000000  \n",
       "50%        0.000000      0.000000     0.000000     0.000000  \n",
       "75%        0.000000      0.000000     0.000000     0.000000  \n",
       "max        1.000000      1.000000     1.000000     1.000000  \n",
       "std        0.244350      0.115691     0.096994     0.356797  \n",
       "\n",
       "[8 rows x 25 columns]"
      ]
     },
     "execution_count": 36,
     "metadata": {},
     "output_type": "execute_result"
    }
   ],
   "source": [
    "print(\"\\n**Información del DataFrame:**\")\n",
    "df.info()\n",
    "\n",
    "print(\"\\n**Estadísticas descriptivas:**\")\n",
    "df.describe()"
   ]
  },
  {
   "cell_type": "markdown",
   "metadata": {},
   "source": [
    "## 1. Características Personales"
   ]
  },
  {
   "cell_type": "code",
   "execution_count": 37,
   "metadata": {},
   "outputs": [
    {
     "data": {
      "text/plain": [
       "array(['Graduation', 'PhD', 'Master', 'Basic', '2n Cycle'], dtype=object)"
      ]
     },
     "execution_count": 37,
     "metadata": {},
     "output_type": "execute_result"
    }
   ],
   "source": [
    "df[\"Education\"].unique()"
   ]
  },
  {
   "cell_type": "markdown",
   "metadata": {},
   "source": [
    "### Realizamos un label encoding en la columna `Education` del DataFrame usando estos los valores específicos:\n",
    "0 - Basic - Básica\n",
    "\n",
    "1 - 2n Cycle - Segundo ciclo\n",
    "\n",
    "2 - Graduation - Licenciatura\n",
    "\n",
    "3 - Master - Máster\n",
    "\n",
    "4 - PhD - Doctorado"
   ]
  },
  {
   "cell_type": "code",
   "execution_count": 38,
   "metadata": {},
   "outputs": [
    {
     "name": "stdout",
     "output_type": "stream",
     "text": [
      "[2 4 3 0 1]\n",
      "[0 1 2 3 4]\n"
     ]
    }
   ],
   "source": [
    "from sklearn.preprocessing import LabelEncoder\n",
    "# Crear una instancia del codificador LabelEncoder\n",
    "encoder = LabelEncoder()\n",
    "\n",
    "# Definir un mapa de etiquetas para mapear categorías textuales a números\n",
    "label_map = {\"Basic\": 0, \"2n Cycle\": 1, \"Graduation\": 2, \"Master\": 3, \"PhD\": 4}\n",
    "\n",
    "# Aplicar el mapeo y luego codificar las categorías en la columna \"Education\"\n",
    "encoded_education = encoder.fit_transform(df[\"Education\"].map(label_map))\n",
    "\n",
    "# Reemplazar la columna original \"Education\" con los valores codificados\n",
    "df[\"Education\"] = encoded_education\n",
    "\n",
    "# Imprimir los valores únicos de la columna \"Education\" después de la codificación\n",
    "print(df[\"Education\"].unique())\n",
    "\n",
    "# Imprimir las clases aprendidas por el codificador (es decir, las etiquetas originales mapeadas a números)\n",
    "print(encoder.classes_)"
   ]
  },
  {
   "cell_type": "code",
   "execution_count": 39,
   "metadata": {},
   "outputs": [],
   "source": [
    "# OTRA MANERA DE HACERLO\n",
    "\n",
    "# Crear un diccionario de mapeo\n",
    "#education_mapping = {'Basic': 0,'2n Cycle': 1,'Graduation': 2,'Master': 3,'PhD': 4}\n",
    "\n",
    "# Aplicar el mapeo a la columna \"Education\"\n",
    "#df['Education'] = df['Education'].map(education_mapping)\n",
    "\n",
    "# Verificar los cambios\n",
    "#print(df['Education'].unique())"
   ]
  },
  {
   "cell_type": "code",
   "execution_count": 40,
   "metadata": {},
   "outputs": [
    {
     "data": {
      "text/plain": [
       "array(['Single', 'Together', 'Married', 'Divorced', 'Widow'], dtype=object)"
      ]
     },
     "execution_count": 40,
     "metadata": {},
     "output_type": "execute_result"
    }
   ],
   "source": [
    "df[\"Marital_Status\"].unique()"
   ]
  },
  {
   "cell_type": "markdown",
   "metadata": {},
   "source": [
    "### Realizamos un label encoding en la columna `Marital_Status` del DataFrame, de manera que 0 es 'Alone' y 1 es 'Together'"
   ]
  },
  {
   "cell_type": "code",
   "execution_count": 41,
   "metadata": {},
   "outputs": [
    {
     "name": "stdout",
     "output_type": "stream",
     "text": [
      "[0 1]\n"
     ]
    }
   ],
   "source": [
    "# Definir el mapeo de etiquetas según tu requerimiento\n",
    "label_map = {\"Single\": 0, \"Divorced\": 0, \"Widow\": 0, \"Together\": 1, \"Married\": 1}\n",
    "\n",
    "# Inicializar el codificador de etiquetas\n",
    "encoder = LabelEncoder()\n",
    "\n",
    "# Mapear y transformar los valores en la columna \"Marital_Status\"\n",
    "df[\"Marital_Status\"] = df[\"Marital_Status\"].map(label_map)\n",
    "\n",
    "# Ajustar y transformar los valores usando el codificador\n",
    "encoded_marital_status = encoder.fit_transform(df[\"Marital_Status\"])\n",
    "\n",
    "# Asignar los valores codificados de vuelta a la columna \"Marital_Status\" del DataFrame\n",
    "df[\"Marital_Status\"] = encoded_marital_status\n",
    "\n",
    "# Verificar los valores únicos después del encoding\n",
    "print(df[\"Marital_Status\"].unique())"
   ]
  },
  {
   "cell_type": "code",
   "execution_count": 42,
   "metadata": {},
   "outputs": [
    {
     "name": "stdout",
     "output_type": "stream",
     "text": [
      "datetime64[ns]\n"
     ]
    }
   ],
   "source": [
    "print(df['Dt_Customer'].dtype)"
   ]
  },
  {
   "cell_type": "markdown",
   "metadata": {},
   "source": [
    "### Pasar de datos datetime para `Dt_Customer` (Fecha de inscripción del cliente en la empresa) a:\n",
    "- `Days`: Siendo el día 0 el máximo de Dt_Customer\n",
    "- `Seniority`: Normalizada entre 0 (poca antigüedad) y 1 (más veterano)\n",
    "### Se crea `Seniority` que representa el grado de antigüedad del cliente en la empresa"
   ]
  },
  {
   "cell_type": "code",
   "execution_count": 43,
   "metadata": {},
   "outputs": [
    {
     "name": "stdout",
     "output_type": "stream",
     "text": [
      "  Dt_Customer  Days  Seniority\n",
      "0  2012-09-04   663   0.948498\n",
      "1  2014-03-08   113   0.161660\n",
      "2  2013-08-21   312   0.446352\n",
      "3  2014-02-10   139   0.198856\n",
      "4  2014-01-19   161   0.230329\n"
     ]
    }
   ],
   "source": [
    "from sklearn.preprocessing import MinMaxScaler\n",
    "\n",
    "# Convertir las fechas a números (por ejemplo, días desde la fecha mínima)\n",
    "df['Days'] = (df['Dt_Customer'] - df['Dt_Customer'].min()).dt.days\n",
    "\n",
    "# Invertir los valores de 'Days' para que las fechas más recientes tengan valores menores\n",
    "df['Days'] = df['Days'].max() - df['Days']\n",
    "\n",
    "# Aplicar MinMaxScaler\n",
    "scaler = MinMaxScaler()\n",
    "df['Seniority'] = scaler.fit_transform(df[['Days']])\n",
    "\n",
    "# Mostrar los resultados\n",
    "print(df[['Dt_Customer', 'Days', 'Seniority']].head())"
   ]
  },
  {
   "cell_type": "markdown",
   "metadata": {},
   "source": [
    "### `Child_Home` donde 0 no hay hijos y 1 donde sí hay"
   ]
  },
  {
   "cell_type": "code",
   "execution_count": 44,
   "metadata": {},
   "outputs": [],
   "source": [
    "df['Child_Home'] = df.apply(lambda x: 1 if (x['Kidhome'] == 1 or x['Teenhome'] == 1) else 0, axis=1)"
   ]
  },
  {
   "cell_type": "markdown",
   "metadata": {},
   "source": [
    "### Determinar la edad `Age`del cliente"
   ]
  },
  {
   "cell_type": "code",
   "execution_count": null,
   "metadata": {},
   "outputs": [
    {
     "data": {
      "text/plain": [
       "np.int64(1999)"
      ]
     },
     "metadata": {},
     "output_type": "display_data"
    }
   ],
   "source": [
    "df['Year_Birth'].max()"
   ]
  },
  {
   "cell_type": "markdown",
   "metadata": {},
   "source": [
    "Siendo 1999 el valor máximo como año de nacimiento y suponiendo que el cliente ha de tener al menos 18 años para estar inscrito, se deduce que el año actual del DataSet es 2017.\n",
    "\n",
    "Con esto sacamos la columna Age siendo 2017-1999 = 18"
   ]
  },
  {
   "cell_type": "code",
   "execution_count": null,
   "metadata": {},
   "outputs": [
    {
     "name": "stdout",
     "output_type": "stream",
     "text": [
      "   Year_Birth  Age\n",
      "0        1957   60\n",
      "1        1954   63\n",
      "2        1965   52\n",
      "3        1984   33\n",
      "4        1981   36\n"
     ]
    }
   ],
   "source": [
    "# Crear la columna Age restando Year_Birth de 2017\n",
    "df['Age'] = 2017 - df['Year_Birth']\n",
    "\n",
    "# Mostrar las primeras filas para verificar la nueva columna\n",
    "print(df[['Year_Birth', 'Age']].head())"
   ]
  },
  {
   "cell_type": "markdown",
   "metadata": {},
   "source": [
    "## 2. Características no personales"
   ]
  },
  {
   "cell_type": "markdown",
   "metadata": {},
   "source": [
    "### `AcceptedCmp` donde 0 no se ha aceptado ninguna campaña y 1 se ha aceptado al menos 1 de las 5 campañas"
   ]
  },
  {
   "cell_type": "code",
   "execution_count": 45,
   "metadata": {},
   "outputs": [],
   "source": [
    "df['AcceptedCmp']= df.apply(lambda x: 1 if (x['AcceptedCmp1']==1 or x['AcceptedCmp2']==1 or x['AcceptedCmp3']==1 or x['AcceptedCmp4']==1 or x['AcceptedCmp5']==1) else 0, axis=1)"
   ]
  },
  {
   "cell_type": "markdown",
   "metadata": {},
   "source": [
    "### `Spent` que es el total del gasto del cliente en los últimos 2 años compuesto por la suma del gasto detodas las categorías"
   ]
  },
  {
   "cell_type": "code",
   "execution_count": 46,
   "metadata": {},
   "outputs": [],
   "source": [
    "df['Spent']= df['MntWines']+df['MntFruits']+df['MntMeatProducts']+df['MntFishProducts']+df['MntGoldProds']+ df['MntSweetProducts']"
   ]
  },
  {
   "cell_type": "markdown",
   "metadata": {},
   "source": [
    "### Guardar nuevo archivo moficado"
   ]
  },
  {
   "cell_type": "code",
   "execution_count": 49,
   "metadata": {},
   "outputs": [
    {
     "name": "stdout",
     "output_type": "stream",
     "text": [
      "Archivo guardado en data/processed como 'campana_marketing.csv'\n"
     ]
    }
   ],
   "source": [
    "# Guardar el DataFrame modificado en un nuevo archivo CSV\n",
    "df.to_csv('../data/processed/campana_marketing.csv', index=False)\n",
    "\n",
    "print(\"Archivo guardado en data/processed como 'campana_marketing.csv'\")"
   ]
  }
 ],
 "metadata": {
  "kernelspec": {
   "display_name": "marketing-ml-classification-APEHDq7B-py3.12",
   "language": "python",
   "name": "python3"
  },
  "language_info": {
   "codemirror_mode": {
    "name": "ipython",
    "version": 3
   },
   "file_extension": ".py",
   "mimetype": "text/x-python",
   "name": "python",
   "nbconvert_exporter": "python",
   "pygments_lexer": "ipython3",
   "version": "3.12.3"
  }
 },
 "nbformat": 4,
 "nbformat_minor": 2
}
